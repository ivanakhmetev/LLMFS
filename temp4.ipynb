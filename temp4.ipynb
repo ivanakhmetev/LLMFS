{
 "cells": [
  {
   "attachments": {},
   "cell_type": "markdown",
   "metadata": {},
   "source": [
    "### 4. Реализация модели GPT \n",
    "\n",
    "В этой главе рассматриваются реализация большоай языковой модели (ЛЛМ):\n",
    "- нормализация и активация\n",
    "- короткие связи\n",
    "- реализация преобразователя\n",
    "- параметры модели \n",
    "\n",
    "![](images/llm4.1.png)\n",
    "\n",
    "![](images/llm4.4.png)"
   ]
  },
  {
   "attachments": {},
   "cell_type": "markdown",
   "metadata": {},
   "source": [
    "### 4.1 Архитектура модели:\n",
    " \n",
    "- токенизатор исходного текста ->  \n",
    "- векторное представление токенов (параметр) ->  \n",
    "- блок преобразователя (с механизмом внимания) ->  \n",
    "- вектор вероятностей следующего токена (прогноз модели)\n",
    "\n",
    "![](images/llm4.2.png)\n",
    "\n",
    "![](images/llm4.3.png)"
   ]
  },
  {
   "cell_type": "code",
   "execution_count": 49,
   "metadata": {},
   "outputs": [],
   "source": [
    "GPT_CONFIG_124M = {       # 124 млн параметров(?)\n",
    "    \"vocab_size\": 50257,  # словарь БПЕ\n",
    "    \"context_length\": 1024,      # число токенов на входе\n",
    "    \"emb_dim\": 768,       # размерность векторного представления токенов\n",
    "    \"n_heads\": 12,        # мультипликатор распараллеливания\n",
    "    \"n_layers\": 12,       # число последовательных блоков преобразователя\n",
    "    \"drop_rate\": 0.1,     # коэффициент прореживания\n",
    "    \"qkv_bias\": False     # \n",
    "}"
   ]
  },
  {
   "attachments": {},
   "cell_type": "markdown",
   "metadata": {},
   "source": [
    "### 4.2 Нормализация, активация и скалярное произведение\n",
    "\n",
    "Вспомним, что скалярное произведение векторных представлений токенов соответствует контекстной близости. Причем бОльшее значение означает бОльшую близость.  \n",
    "Тогда в полученных значениях следует учитывать бОльшие значения и не учитывать мЕньшие. Реализующий этот принцип механизм заключается в использовании слоев нормализации и активации:\n",
    "- нормализация приводит все значения к одному диапазону (-1, 1), явно определяя - что такое бОльшее и мЕньшее значение\n",
    "- активация отбрасывает все (или почти все) значения меньше 0\n",
    "\n",
    "Активация выбрасывает часть значений и сохраняет другие. Т.к. машинное обучение состоит из циклов, активацию можно представить как эволюционное сохранение сильных контекстных связей и отбрасывание слабых.  \n",
    "\n",
    "![](images/llm4.5.png)\n",
    "\n",
    "![](images/llm4.8.png)"
   ]
  },
  {
   "cell_type": "code",
   "execution_count": 50,
   "metadata": {},
   "outputs": [
    {
     "name": "stdout",
     "output_type": "stream",
     "text": [
      "Выходные значения после активации: \n",
      " tensor([[0.2260, 0.3470, 0.0000, 0.2216, 0.0000, 0.0000],\n",
      "        [0.2133, 0.2394, 0.0000, 0.5198, 0.3297, 0.0000]],\n",
      "       grad_fn=<ReluBackward0>)\n",
      "Медиана:\n",
      " tensor([[0.1324],\n",
      "        [0.2170]], grad_fn=<MeanBackward1>)\n",
      "Дисперсия:\n",
      " tensor([[0.0231],\n",
      "        [0.0398]], grad_fn=<VarBackward0>)\n",
      "Нормализованные выходные значения:\n",
      " tensor([[ 0.6159,  1.4126, -0.8719,  0.5872, -0.8719, -0.8719],\n",
      "        [-0.0189,  0.1121, -1.0876,  1.5173,  0.5647, -1.0876]],\n",
      "       grad_fn=<DivBackward0>)\n",
      "Медиана:\n",
      " tensor([[    0.0000],\n",
      "        [    0.0000]], grad_fn=<MeanBackward1>)\n",
      "Дисперсия:\n",
      " tensor([[1.0000],\n",
      "        [1.0000]], grad_fn=<VarBackward0>)\n"
     ]
    }
   ],
   "source": [
    "# Пример нормализации для случайного тензора\n",
    "\n",
    "import torch\n",
    "from torch import nn\n",
    "\n",
    "torch.manual_seed(123)  \n",
    "batch_example = torch.randn(2, 5) \n",
    "layer = nn.Sequential(nn.Linear(5, 6), nn.ReLU())\n",
    "out = layer(batch_example)\n",
    "mean = out.mean(dim=-1, keepdim=True)\n",
    "var = out.var(dim=-1, keepdim=True)\n",
    "print('Выходные значения после активации: \\n', out)\n",
    "print(\"Медиана:\\n\", mean)\n",
    "print(\"Дисперсия:\\n\", var)\n",
    "\n",
    "out_norm = (out - mean) / torch.sqrt(var)\n",
    "mean = out_norm.mean(dim=-1, keepdim=True)\n",
    "var = out_norm.var(dim=-1, keepdim=True)\n",
    "print(\"Нормализованные выходные значения:\\n\", out_norm)\n",
    "print(\"Медиана:\\n\", mean)\n",
    "print(\"Дисперсия:\\n\", var)"
   ]
  },
  {
   "cell_type": "code",
   "execution_count": 51,
   "metadata": {},
   "outputs": [],
   "source": [
    "# Нормализация в одном классе\n",
    "\n",
    "class LayerNorm(nn.Module):\n",
    "    def __init__(self, emb_dim):\n",
    "        super().__init__()\n",
    "        self.eps = 1e-5\n",
    "        self.scale = nn.Parameter(torch.ones(emb_dim))\n",
    "        self.shift = nn.Parameter(torch.zeros(emb_dim))\n",
    "        # смысл обучаемых параметров в нормализации?\n",
    "        # self.scale = torch.ones(emb_dim)\n",
    "        # self.shift = torch.zeros(emb_dim)\n",
    " \n",
    "    def forward(self, x):\n",
    "        mean = x.mean(dim=-1, keepdim=True)\n",
    "        var = x.var(dim=-1, keepdim=True, unbiased=False)\n",
    "        norm_x = (x - mean) / torch.sqrt(var + self.eps)\n",
    "        return self.scale * norm_x + self.shift"
   ]
  },
  {
   "attachments": {},
   "cell_type": "markdown",
   "metadata": {},
   "source": [
    "### 4.3 Поиск неявных связей (exploration of a richer representation space)\n",
    "\n",
    "На рисунке в гл. 2, слова имели векторное представление размерности 2, т.е. матрица, строящая векторное представление токенов (обучаемый параметр!) суть классификатор, распределяющий все входящие слова по вероятностям принадлежности к одной или другой. Т.е. когда размерность векторного представления увеличивается - увеличивается сложность классификатора.  \n",
    "\n",
    "Тогда последовательность операций:\n",
    "1. увеличение размерности \n",
    "2. активация\n",
    "3. уменьшение размерности до исходного\n",
    "\n",
    "Можно представить как поиск неявных связей\n",
    "\n",
    "![](images/llm4.9.png)\n",
    "\n",
    "![](images/llm4.10.png)"
   ]
  },
  {
   "cell_type": "code",
   "execution_count": 52,
   "metadata": {},
   "outputs": [],
   "source": [
    "# Вычислительно эффективное приближение GELU - \n",
    "# более гладкой и сложной, чем ReLU функции активации:\n",
    "\n",
    "class GELU(nn.Module):\n",
    "    def __init__(self):\n",
    "        super().__init__()\n",
    " \n",
    "    def forward(self, x):\n",
    "        return 0.5 * x * (1 + torch.tanh(\n",
    "            torch.sqrt(torch.tensor(2.0 / torch.pi)) * \n",
    "            (x + 0.044715 * torch.pow(x, 3))\n",
    "        ))"
   ]
  },
  {
   "cell_type": "code",
   "execution_count": 53,
   "metadata": {},
   "outputs": [],
   "source": [
    "# Класс, выполняющий поиск неявных связей (с коэффициентом 4)\n",
    "\n",
    "class FeedForward(nn.Module):\n",
    "    def __init__(self, cfg):\n",
    "        super().__init__()\n",
    "        self.layers = nn.Sequential(\n",
    "            nn.Linear(cfg[\"emb_dim\"], 4 * cfg[\"emb_dim\"]),\n",
    "            GELU(),\n",
    "            nn.Linear(4 * cfg[\"emb_dim\"], cfg[\"emb_dim\"]),\n",
    "        )\n",
    " \n",
    "    def forward(self, x):\n",
    "        return self.layers(x)"
   ]
  },
  {
   "attachments": {},
   "cell_type": "markdown",
   "metadata": {},
   "source": [
    "### 4.4 Проблема исчезающих градиентов (vanishing gradients) и остаточные связи (residual / skip / short connections)\n",
    "\n",
    "Алгоритм обратного распространения ошибки - способ обновления весов в обучаемых параметрах сети. Чем больше в сети слоев, т.е. чем она глубже - тем сложнее сохранить стабильность обучения, т.к. вычисляемые значения градиента после каждого слоя уменьшаются, по мере обратного распространения ошибки - от выхода сети к её входу (рисунок). Т.е. функция ошибки сильнее всего влияет на ближний к ней (близкий к выходу) слой, чем длиннее путь распространения ошибки - тем меньшее значение влияет на веса параметров.\n",
    "\n",
    "Для минимизации этого эффекта используются остаточные связи - соединения, создающие дополнительный (более короткий) путь обработки данных. Метафорически это соответствует случаю, когда основной смысл прочитанного понят частично и после прочтения следующего предложения, необходимо вернуться к предыдущему (к его остаточному смыслу). \n",
    "\n",
    "![](images/llm4.12.png)\n"
   ]
  },
  {
   "cell_type": "code",
   "execution_count": 54,
   "metadata": {},
   "outputs": [],
   "source": [
    "# Модель с пятью линейно-активационными блоками и параметром использовать / не использовать остаточные связи\n",
    "\n",
    "class ExampleDeepNeuralNetwork(nn.Module):\n",
    "    def __init__(self, layer_sizes, use_shortcut):\n",
    "        super().__init__()\n",
    "        self.use_shortcut = use_shortcut\n",
    "        self.layers = nn.ModuleList([\n",
    "            nn.Sequential(nn.Linear(layer_sizes[0], layer_sizes[1]), GELU()),\n",
    "            nn.Sequential(nn.Linear(layer_sizes[1], layer_sizes[2]), GELU()),\n",
    "            nn.Sequential(nn.Linear(layer_sizes[2], layer_sizes[3]), GELU()),\n",
    "            nn.Sequential(nn.Linear(layer_sizes[3], layer_sizes[4]), GELU()),\n",
    "            nn.Sequential(nn.Linear(layer_sizes[4], layer_sizes[5]), GELU())\n",
    "        ])\n",
    " \n",
    "    def forward(self, x):\n",
    "        for layer in self.layers:\n",
    "            layer_output = layer(x)\n",
    "            # Реализация связи: к выходу слоя добавляется его вход\n",
    "            if self.use_shortcut and x.shape == layer_output.shape:\n",
    "                x = x + layer_output\n",
    "            else:\n",
    "                x = layer_output\n",
    "        return x"
   ]
  },
  {
   "cell_type": "code",
   "execution_count": 55,
   "metadata": {},
   "outputs": [],
   "source": [
    "# Функция печати значений градиентов слоев модели\n",
    "\n",
    "def print_gradients(model, x):\n",
    "    # Вычисляем выход модели\n",
    "    output = model(x)\n",
    "    # Берем какое-то целевое значение для примера\n",
    "    target = torch.tensor([[0.]]) \n",
    "    # Вычисляем какую-то ошибку на основании целевого значения\n",
    "    loss = nn.MSELoss()\n",
    "    loss = loss(output, target)    \n",
    "    # Применяем алгоритм обратного распространения ошибки\n",
    "    loss.backward() \n",
    "    for name, param in model.named_parameters():\n",
    "        if 'weight' in name:\n",
    "            print('Слой ' f\"{name} получил градиент с медианным значением: {param.grad.abs().mean().item()}\")"
   ]
  },
  {
   "cell_type": "code",
   "execution_count": 56,
   "metadata": {},
   "outputs": [
    {
     "name": "stdout",
     "output_type": "stream",
     "text": [
      "Слой layers.0.0.weight получил градиент с медианным значением: 0.0056779212318360806\n",
      "Слой layers.1.0.weight получил градиент с медианным значением: 0.015727611258625984\n",
      "Слой layers.2.0.weight получил градиент с медианным значением: 0.010563054122030735\n",
      "Слой layers.3.0.weight получил градиент с медианным значением: 0.010379952378571033\n",
      "Слой layers.4.0.weight получил градиент с медианным значением: 0.19919389486312866\n",
      "----\n",
      "Слой layers.0.0.weight получил градиент с медианным значением: 0.011355842463672161\n",
      "Слой layers.1.0.weight получил градиент с медианным значением: 0.03145522251725197\n",
      "Слой layers.2.0.weight получил градиент с медианным значением: 0.02112610824406147\n",
      "Слой layers.3.0.weight получил градиент с медианным значением: 0.020759904757142067\n",
      "Слой layers.4.0.weight получил градиент с медианным значением: 0.3983877897262573\n"
     ]
    }
   ],
   "source": [
    "# Задаем параметры слоев и входящий вектор\n",
    "\n",
    "layer_sizes = [3, 3, 3, 3, 3, 1]  \n",
    "sample_input = torch.tensor([[1., 0., -1.]])\n",
    "\n",
    "# Пример вычислений градиентов модели, использующей остаточные связи\n",
    "\n",
    "model_with_shortcut = ExampleDeepNeuralNetwork(\n",
    "    layer_sizes, use_shortcut=True)\n",
    "print_gradients(model_with_shortcut, sample_input)\n",
    "\n",
    "# Пример вычислений градиентов модели, не использующей остаточные связи\n",
    "print('----')\n",
    "model_without_shortcut = ExampleDeepNeuralNetwork(\n",
    "    layer_sizes, use_shortcut=False)\n",
    "print_gradients(model_with_shortcut, sample_input)"
   ]
  },
  {
   "attachments": {},
   "cell_type": "markdown",
   "metadata": {},
   "source": [
    "### 4.5 Реализация блока преобразователя (transformer block)\n",
    "\n",
    "Идея преобразователя состоит в объединении механизма внимания (поиск явных связей во входящей последовательности) и механизма поиска неявных связей.  \n",
    "\n",
    "Итоговая архитектура является результатом практического опыта и на разных этапах могла отличаться. Так, ранее нормализация использовалась после указанных механизмов (Post-LayerNorm), что оказалось менее эффективно чем настоящая версия (Pre-LayerNorm).\n",
    "\n",
    "![](images/llm4.13.png)\n"
   ]
  },
  {
   "cell_type": "code",
   "execution_count": 57,
   "metadata": {},
   "outputs": [],
   "source": [
    "# Копия из предыдущей главы для корректного запуска кода\n",
    "\n",
    "class MultiHeadAttention(nn.Module):\n",
    "    def __init__(self, d_in, d_out, \n",
    "                 context_length, dropout, num_heads, qkv_bias=False):\n",
    "        super().__init__()\n",
    "        assert d_out % num_heads == 0, \"d_out must be divisible by num_heads\"\n",
    "        self.d_out = d_out\n",
    "        self.num_heads = num_heads\n",
    "        self.head_dim = d_out // num_heads\n",
    "        self.W_query = nn.Linear(d_in, d_out, bias=qkv_bias)\n",
    "        self.W_key = nn.Linear(d_in, d_out, bias=qkv_bias)\n",
    "        self.W_value = nn.Linear(d_in, d_out, bias=qkv_bias)\n",
    "        self.out_proj = nn.Linear(d_out, d_out)\n",
    "        self.dropout = nn.Dropout(dropout)\n",
    "        self.register_buffer(\n",
    "            'mask',\n",
    "             torch.triu(torch.ones(context_length, context_length), diagonal=1)\n",
    "        )\n",
    " \n",
    "    def forward(self, x):\n",
    "        b, num_tokens, d_in = x.shape\n",
    "        keys = self.W_key(x)\n",
    "        queries = self.W_query(x)\n",
    "        values = self.W_value(x)\n",
    " \n",
    "        keys = keys.view(b, num_tokens, self.num_heads, self.head_dim)\n",
    "        values = values.view(b, num_tokens, self.num_heads, self.head_dim)\n",
    "        queries = queries.view(b, num_tokens, self.num_heads, self.head_dim)\n",
    " \n",
    "        keys = keys.transpose(1, 2)\n",
    "        queries = queries.transpose(1, 2)\n",
    "        values = values.transpose(1, 2)\n",
    " \n",
    "        attn_scores = queries @ keys.transpose(2, 3)\n",
    "        mask_bool = self.mask.bool()[:num_tokens, :num_tokens]\n",
    "  \n",
    "        attn_scores.masked_fill_(mask_bool, -torch.inf) \n",
    "        attn_weights = torch.softmax(\n",
    "            attn_scores / keys.shape[-1]**0.5, dim=-1)\n",
    "        attn_weights = self.dropout(attn_weights)\n",
    " \n",
    "        context_vec = (attn_weights @ values).transpose(1, 2)\n",
    "        context_vec = context_vec.contiguous().view(b, num_tokens, self.d_out)\n",
    "        context_vec = self.out_proj(context_vec)\n",
    "        return context_vec"
   ]
  },
  {
   "cell_type": "code",
   "execution_count": 58,
   "metadata": {},
   "outputs": [],
   "source": [
    "# Реализация блока преобразователя\n",
    " \n",
    "class TransformerBlock(nn.Module):\n",
    "    def __init__(self, cfg):\n",
    "        super().__init__()\n",
    "        self.att = MultiHeadAttention(\n",
    "            d_in=cfg[\"emb_dim\"],\n",
    "            d_out=cfg[\"emb_dim\"],\n",
    "            context_length=cfg[\"context_length\"],\n",
    "            num_heads=cfg[\"n_heads\"], \n",
    "            dropout=cfg[\"drop_rate\"],\n",
    "            qkv_bias=cfg[\"qkv_bias\"])\n",
    "        self.ff = FeedForward(cfg)\n",
    "        self.norm1 = LayerNorm(cfg[\"emb_dim\"])\n",
    "        self.norm2 = LayerNorm(cfg[\"emb_dim\"])\n",
    "        self.drop_resid = nn.Dropout(cfg[\"drop_rate\"])\n",
    " \n",
    "    def forward(self, x):\n",
    "        \n",
    "        # вход сохранен для передачи остатка\n",
    "        shortcut = x\n",
    "        # вход нормализован\n",
    "        x = self.norm1(x)\n",
    "        # механизм внимания\n",
    "        x = self.att(x)\n",
    "        # прореживание\n",
    "        x = self.drop_resid(x)\n",
    "        # передача остатка к выходу прореживания\n",
    "        x = x + shortcut  # Add the original input back\n",
    " \n",
    "        shortcut = x\n",
    "        x = self.norm2(x)\n",
    "        x = self.ff(x)\n",
    "        x = self.drop_resid(x)\n",
    "        x = x + shortcut\n",
    "        return x"
   ]
  },
  {
   "attachments": {},
   "cell_type": "markdown",
   "metadata": {},
   "source": [
    "### 4.6 Реализация модели ГПТ \n",
    "\n",
    "В этой архитектуре, изменив конфигурационный блок (cfg), можно масштабировать модель. Изучались следующие соотношения размерности пространства токенов / числа блоков преобразователя / коэффициента параллелизма (число \"голов\" в механизме внимания):\n",
    "- малый:            768 / 12 / 12 (рисунок)\n",
    "- средний:          1024 / 24 / 16\n",
    "- большой:          1280 / 36 / 20\n",
    "- очень большой:    1600 / 48 / 25\n",
    "\n",
    "![](images/llm4.15.png)"
   ]
  },
  {
   "cell_type": "code",
   "execution_count": 59,
   "metadata": {},
   "outputs": [],
   "source": [
    "# Реализация модели ГПТ-2\n",
    "\n",
    "class GPTModel(nn.Module):\n",
    "    def __init__(self, cfg):\n",
    "        super().__init__()\n",
    "        self.tok_emb = nn.Embedding(cfg[\"vocab_size\"], cfg[\"emb_dim\"])\n",
    "        self.pos_emb = nn.Embedding(cfg[\"context_length\"], cfg[\"emb_dim\"])\n",
    "        self.drop_emb = nn.Dropout(cfg[\"drop_rate\"])\n",
    "        self.trf_blocks = nn.Sequential(\n",
    "            *[TransformerBlock(cfg) for _ in range(cfg[\"n_layers\"])])\n",
    "        self.final_norm = LayerNorm(cfg[\"emb_dim\"])\n",
    "        self.out_head = nn.Linear(\n",
    "            cfg[\"emb_dim\"], cfg[\"vocab_size\"], bias=False\n",
    "        )\n",
    " \n",
    "    def forward(self, in_idx):\n",
    "        batch_size, seq_len = in_idx.shape\n",
    "        tok_embeds = self.tok_emb(in_idx)\n",
    "        pos_embeds = self.pos_emb(torch.arange(seq_len, device=in_idx.device))\n",
    "        x = tok_embeds + pos_embeds\n",
    "        x = self.drop_emb(x)\n",
    "        x = self.trf_blocks(x)\n",
    "        x = self.final_norm(x)\n",
    "        logits = self.out_head(x)\n",
    "        return logits"
   ]
  },
  {
   "cell_type": "code",
   "execution_count": 60,
   "metadata": {},
   "outputs": [
    {
     "name": "stdout",
     "output_type": "stream",
     "text": [
      "Total number of parameters: 163,009,536\n"
     ]
    }
   ],
   "source": [
    "# Подсчитаем число параметров модели:\n",
    "\n",
    "model = GPTModel(GPT_CONFIG_124M)\n",
    "total_params = sum(p.numel() for p in model.parameters())\n",
    "print(f\"Общее число параметров: {total_params:,}\")"
   ]
  },
  {
   "cell_type": "code",
   "execution_count": 62,
   "metadata": {},
   "outputs": [
    {
     "name": "stdout",
     "output_type": "stream",
     "text": [
      "Размерность слоя векторного представления: torch.Size([50257, 768])\n",
      "Размерность выходного слоя: torch.Size([50257, 768])\n",
      "Число параметров модели с учетом сокращения вычислений: 124,412,160\n"
     ]
    }
   ],
   "source": [
    "# Это число отличается от заявленных 124 млн, т.к. в модели ГПТ-2 для сокращения вычислений (weight tying)\n",
    "# для построения векторного представления токенов  и для построения выходного слоя вероятностей\n",
    "# использовался один и тот же слой, размером 39 млн параметров\n",
    "\n",
    "print(\"Размерность слоя векторного представления:\", model.tok_emb.weight.shape)\n",
    "print(\"Размерность выходного слоя:\", model.out_head.weight.shape)\n",
    "\n",
    "total_params_gpt2 =  total_params - sum(p.numel() for p in model.out_head.parameters())\n",
    "print(f\"Число параметров модели с учетом сокращения вычислений: {total_params_gpt2:,}\")"
   ]
  },
  {
   "attachments": {},
   "cell_type": "markdown",
   "metadata": {},
   "source": [
    "### 4.7 Генерация текста без обучения\n",
    "\n",
    "![](images/llm4.17.png)"
   ]
  },
  {
   "cell_type": "code",
   "execution_count": 63,
   "metadata": {},
   "outputs": [],
   "source": [
    "# Функция генерации текста на основе модели\n",
    "# параметром idx задается входная строка\n",
    "# параметром max_new_tokens ограничиывается длина выходной строки\n",
    "\n",
    "def generate_text_simple(model, idx, max_new_tokens, context_size):\n",
    "    for _ in range(max_new_tokens):\n",
    "        idx_cond = idx[:, -context_size:]\n",
    "        with torch.no_grad():\n",
    "            logits = model(idx_cond)\n",
    "       \n",
    "        logits = logits[:, -1, :]\n",
    "        probas = torch.softmax(logits, dim=-1)\n",
    "        idx_next = torch.argmax(probas, dim=-1, keepdim=True)\n",
    "        idx = torch.cat((idx, idx_next), dim=1)\n",
    " \n",
    "    return idx"
   ]
  },
  {
   "cell_type": "code",
   "execution_count": 65,
   "metadata": {},
   "outputs": [
    {
     "name": "stdout",
     "output_type": "stream",
     "text": [
      "encoded: [15496, 11, 314, 716]\n"
     ]
    }
   ],
   "source": [
    "# Токенизация \n",
    "import tiktoken\n",
    " \n",
    "tokenizer = tiktoken.get_encoding(\"gpt2\")\n",
    "start_context = \"Hello, I am\"\n",
    "encoded = tokenizer.encode(start_context)\n",
    "print(\"encoded:\", encoded)\n",
    "encoded_tensor = torch.tensor(encoded).unsqueeze(0)"
   ]
  },
  {
   "cell_type": "code",
   "execution_count": 66,
   "metadata": {},
   "outputs": [
    {
     "name": "stdout",
     "output_type": "stream",
     "text": [
      "Output: tensor([[15496,    11,   314,   716, 24922, 20900, 45222, 37903, 18909, 17586]])\n",
      "Output length: 10\n"
     ]
    }
   ],
   "source": [
    "# Выход модели в токенах\n",
    "model.eval()\n",
    "out = generate_text_simple(\n",
    "    model=model,\n",
    "    idx=encoded_tensor, \n",
    "    max_new_tokens=6, \n",
    "    context_size=GPT_CONFIG_124M[\"context_length\"]\n",
    ")\n",
    "print(\"Output:\", out)"
   ]
  },
  {
   "cell_type": "code",
   "execution_count": 68,
   "metadata": {},
   "outputs": [
    {
     "name": "stdout",
     "output_type": "stream",
     "text": [
      "Hello, I am Opportuninator classmate Sioux Cele overturn\n"
     ]
    }
   ],
   "source": [
    "# Детокенизация (без обучения выдан мусор)\n",
    "\n",
    "decoded_text = tokenizer.decode(out.squeeze(0).tolist())\n",
    "print(decoded_text)"
   ]
  },
  {
   "attachments": {},
   "cell_type": "markdown",
   "metadata": {},
   "source": [
    "### 4.8 Резюме\n",
    "\n",
    "- Нормализация слоев стабилизирует обучения, гарантируя, что выходные данные каждого слоя имеют одинаковое среднее значение и дисперсию (измеряются в одних цифрах)\n",
    "- Короткие связи - это соединения, которые пропускают один или несколько слоев, передавая выходные данные одного слоя непосредственно на более глубокий уровень (решение проблемы исчезающих градиентов)\n",
    "- Блок преобразователя - основной элемент ЛЛМ, ищущий связи между токенами\n",
    "- Модели ГПТ архитектурно одинаковы, отличаются числом блоков преобразователя, размерностью пространства токенов и коэффициентом параллелизма\n",
    "- Без обучения ЛЛМ генерирует бессвязный текст (текст со случайными связями)"
   ]
  }
 ],
 "metadata": {
  "kernelspec": {
   "display_name": "base",
   "language": "python",
   "name": "python3"
  },
  "language_info": {
   "codemirror_mode": {
    "name": "ipython",
    "version": 3
   },
   "file_extension": ".py",
   "mimetype": "text/x-python",
   "name": "python",
   "nbconvert_exporter": "python",
   "pygments_lexer": "ipython3",
   "version": "3.10.9"
  }
 },
 "nbformat": 4,
 "nbformat_minor": 2
}
